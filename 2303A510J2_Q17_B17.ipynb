{
  "nbformat": 4,
  "nbformat_minor": 0,
  "metadata": {
    "colab": {
      "provenance": [],
      "authorship_tag": "ABX9TyPnzo/5x3vQD1cu6GK0gxHN",
      "include_colab_link": true
    },
    "kernelspec": {
      "name": "python3",
      "display_name": "Python 3"
    },
    "language_info": {
      "name": "python"
    }
  },
  "cells": [
    {
      "cell_type": "markdown",
      "metadata": {
        "id": "view-in-github",
        "colab_type": "text"
      },
      "source": [
        "<a href=\"https://colab.research.google.com/github/vishnu10j2/2303a510j2.AIML-17/blob/main/2303A510J2_Q17_B17.ipynb\" target=\"_parent\"><img src=\"https://colab.research.google.com/assets/colab-badge.svg\" alt=\"Open In Colab\"/></a>"
      ]
    },
    {
      "cell_type": "code",
      "execution_count": 1,
      "metadata": {
        "colab": {
          "base_uri": "https://localhost:8080/"
        },
        "id": "b7OQ7tA0G9Ed",
        "outputId": "5b6bff4e-2b51-4d4a-d635-582eef91d863"
      },
      "outputs": [
        {
          "output_type": "stream",
          "name": "stdout",
          "text": [
            "Reason for absence\n",
            "23    149\n",
            "28    112\n",
            "27     69\n",
            "13     55\n",
            "0      43\n",
            "Name: count, dtype: int64\n"
          ]
        }
      ],
      "source": [
        "import pandas as pd\n",
        "file_path = '/content/Absenteeism_at_work.csv'\n",
        "data = pd.read_csv(file_path, delimiter=';')\n",
        "top_reasons = data['Reason for absence'].value_counts().head(5)\n",
        "print(top_reasons)"
      ]
    },
    {
      "cell_type": "code",
      "source": [
        "import pandas as pd\n",
        "file_path = '/content/Absenteeism_at_work.csv'\n",
        "data = pd.read_csv(file_path, delimiter=';')\n",
        "most_common_condition = data['Reason for absence'].value_counts().idxmax()\n",
        "print(f\"Condition with most usage of drugs: {most_common_condition}\")"
      ],
      "metadata": {
        "colab": {
          "base_uri": "https://localhost:8080/"
        },
        "id": "x6GDGoAAG93r",
        "outputId": "c0d28c95-4c64-4212-b6c7-269107817f03"
      },
      "execution_count": 2,
      "outputs": [
        {
          "output_type": "stream",
          "name": "stdout",
          "text": [
            "Condition with most usage of drugs: 23\n"
          ]
        }
      ]
    },
    {
      "cell_type": "code",
      "source": [
        "import pandas as pd\n",
        "file_path = '/content/Absenteeism_at_work.csv'\n",
        "data = pd.read_csv(file_path, delimiter=';')\n",
        "most_common_condition = data['Reason for absence'].value_counts().idxmax()\n",
        "max_useful = data['Reason for absence'].value_counts().max()\n",
        "min_useful = data['Reason for absence'].value_counts().min()\n",
        "print(f\"Condition with most usage of drugs: {most_common_condition}\")\n",
        "print(f\"Max count of users who found the review useful: {max_useful}\")\n",
        "print(f\"Min count of users who found the review useful: {min_useful}\")"
      ],
      "metadata": {
        "colab": {
          "base_uri": "https://localhost:8080/"
        },
        "id": "et061X2TH5Ko",
        "outputId": "76d7a186-2136-440a-887d-7fe645905782"
      },
      "execution_count": 3,
      "outputs": [
        {
          "output_type": "stream",
          "name": "stdout",
          "text": [
            "Condition with most usage of drugs: 23\n",
            "Max count of users who found the review useful: 149\n",
            "Min count of users who found the review useful: 1\n"
          ]
        }
      ]
    },
    {
      "cell_type": "code",
      "source": [
        "import pandas as pd\n",
        "file_path = '/content/Absenteeism_at_work.csv'\n",
        "data = pd.read_csv(file_path, delimiter=';')\n",
        "most_common_condition = data['Reason for absence'].value_counts().idxmax()\n",
        "max_useful = data['Reason for absence'].value_counts().max()\n",
        "min_useful = data['Reason for absence'].value_counts().min()\n",
        "drug_most_used = data['Reason for absence'].value_counts().idxmax()\n",
        "print(f\"Condition with most usage of drugs: {most_common_condition}\")\n",
        "print(f\"Max count of users who found the review useful: {max_useful}\")\n",
        "print(f\"Min count of users who found the review useful: {min_useful}\")\n",
        "print(f\"Drug most used according to reviews: {drug_most_used}\")"
      ],
      "metadata": {
        "colab": {
          "base_uri": "https://localhost:8080/"
        },
        "id": "sz73srtzIMWf",
        "outputId": "6a38e370-3212-4e5a-bafb-078a10eb3322"
      },
      "execution_count": 4,
      "outputs": [
        {
          "output_type": "stream",
          "name": "stdout",
          "text": [
            "Condition with most usage of drugs: 23\n",
            "Max count of users who found the review useful: 149\n",
            "Min count of users who found the review useful: 1\n",
            "Drug most used according to reviews: 23\n"
          ]
        }
      ]
    },
    {
      "cell_type": "code",
      "source": [
        "import pandas as pd\n",
        "file_path = '/content/Absenteeism_at_work.csv'\n",
        "data = pd.read_csv(file_path, delimiter=';')\n",
        "most_common_condition = data['Reason for absence'].value_counts().idxmax()\n",
        "max_useful = data['Reason for absence'].value_counts().max()\n",
        "min_useful = data['Reason for absence'].value_counts().min()\n",
        "drug_most_used = data['Reason for absence'].value_counts().idxmax()\n",
        "if 'Rating' in data.columns:\n",
        "    max_10_star_count = (data['Rating'] == 10).sum()\n",
        "else:\n",
        "    max_10_star_count = 'Rating column not found'\n",
        "print(f\"Condition with most usage of drugs: {most_common_condition}\")\n",
        "print(f\"Max count of users who found the review useful: {max_useful}\")\n",
        "print(f\"Min count of users who found the review useful: {min_useful}\")\n",
        "print(f\"Drug most used according to reviews: {drug_most_used}\")\n",
        "print(f\"Max count of 10-star ratings: {max_10_star_count}\")"
      ],
      "metadata": {
        "colab": {
          "base_uri": "https://localhost:8080/"
        },
        "id": "AmXcSZszIfg3",
        "outputId": "f84a54bf-a873-4e96-e421-380e86e0676c"
      },
      "execution_count": 5,
      "outputs": [
        {
          "output_type": "stream",
          "name": "stdout",
          "text": [
            "Condition with most usage of drugs: 23\n",
            "Max count of users who found the review useful: 149\n",
            "Min count of users who found the review useful: 1\n",
            "Drug most used according to reviews: 23\n",
            "Max count of 10-star ratings: Rating column not found\n"
          ]
        }
      ]
    },
    {
      "cell_type": "code",
      "source": [
        "import pandas as pd\n",
        "from sklearn.model_selection import train_test_split\n",
        "from sklearn.ensemble import RandomForestClassifier\n",
        "from sklearn.preprocessing import LabelEncoder, StandardScaler\n",
        "from sklearn.cluster import KMeans\n",
        "from sklearn.metrics import classification_report, silhouette_score\n",
        "file_path = '/content/Absenteeism_at_work.csv'\n",
        "data = pd.read_csv(file_path, delimiter=';')\n",
        "data = data.fillna(method='ffill')\n",
        "if 'Reason for absence' in data.columns:\n",
        "    X = data.drop(['Reason for absence'], axis=1)\n",
        "    y = data['Reason for absence']\n",
        "    le = LabelEncoder()\n",
        "    y = le.fit_transform(y)\n",
        "    scaler = StandardScaler()\n",
        "    X = scaler.fit_transform(X)\n",
        "    X_train, X_test, y_train, y_test = train_test_split(X, y, test_size=0.3, random_state=42)\n",
        "    clf = RandomForestClassifier(random_state=42)\n",
        "    clf.fit(X_train, y_train)\n",
        "    y_pred = clf.predict(X_test)\n",
        "    print(\"Classification Report:\\n\", classification_report(y_test, y_pred))\n",
        "if 'Reason for absence' in data.columns:\n",
        "    kmeans_data = data.drop(['Reason for absence'], axis=1)\n",
        "    kmeans_data = scaler.fit_transform(kmeans_data)\n",
        "    kmeans = KMeans(n_clusters=5, random_state=42)\n",
        "    kmeans.fit(kmeans_data)\n",
        "    score = silhouette_score(kmeans_data, kmeans.labels_)\n",
        "    print(f\"Silhouette Score for K-Means: {score}\")\n",
        "max_useful = data['Reason for absence'].value_counts().max()\n",
        "min_useful = data['Reason for absence'].value_counts().min()\n",
        "drug_most_used = data['Reason for absence'].value_counts().idxmax()\n",
        "if 'Rating' in data.columns:\n",
        "    max_10_star_count = (data['Rating'] == 10).sum()\n",
        "else:\n",
        "    max_10_star_count = 'Rating column not found'\n",
        "print(f\"Condition with most usage of drugs: {most_common_condition}\")\n",
        "print(f\"Max count of users who found the review useful: {max_useful}\")\n",
        "print(f\"Min count of users who found the review useful: {min_useful}\")\n",
        "print(f\"Drug most used according to reviews: {drug_most_used}\")\n",
        "print(f\"Max count of 10-star ratings: {max_10_star_count}\")"
      ],
      "metadata": {
        "colab": {
          "base_uri": "https://localhost:8080/"
        },
        "id": "A9GzqSzhI2K3",
        "outputId": "8ae88b2d-07cf-4924-ed78-2331f6c7a12c"
      },
      "execution_count": 6,
      "outputs": [
        {
          "output_type": "stream",
          "name": "stderr",
          "text": [
            "<ipython-input-6-033a550d3244>:9: FutureWarning: DataFrame.fillna with 'method' is deprecated and will raise in a future version. Use obj.ffill() or obj.bfill() instead.\n",
            "  data = data.fillna(method='ffill')\n"
          ]
        },
        {
          "output_type": "stream",
          "name": "stdout",
          "text": [
            "Classification Report:\n",
            "               precision    recall  f1-score   support\n",
            "\n",
            "           0       1.00      1.00      1.00        13\n",
            "           1       1.00      0.11      0.20         9\n",
            "           2       0.00      0.00      0.00         1\n",
            "           5       0.00      0.00      0.00         0\n",
            "           6       0.00      0.00      0.00         1\n",
            "           7       0.00      0.00      0.00         4\n",
            "           8       0.00      0.00      0.00         2\n",
            "           9       0.00      0.00      0.00         0\n",
            "          10       0.20      0.14      0.17         7\n",
            "          11       0.00      0.00      0.00         8\n",
            "          12       0.00      0.00      0.00         3\n",
            "          13       0.39      0.44      0.41        16\n",
            "          14       0.17      0.25      0.20         4\n",
            "          15       0.00      0.00      0.00         1\n",
            "          16       0.00      0.00      0.00         1\n",
            "          17       0.00      0.00      0.00         1\n",
            "          18       0.33      0.10      0.15        10\n",
            "          19       0.00      0.00      0.00         7\n",
            "          20       1.00      1.00      1.00         1\n",
            "          21       0.50      0.50      0.50        10\n",
            "          22       0.50      0.67      0.57        49\n",
            "          23       0.00      0.00      0.00         0\n",
            "          24       0.29      0.29      0.29         7\n",
            "          25       0.22      0.17      0.19        12\n",
            "          26       0.76      0.81      0.79        16\n",
            "          27       0.62      0.64      0.63        39\n",
            "\n",
            "    accuracy                           0.47       222\n",
            "   macro avg       0.27      0.24      0.23       222\n",
            "weighted avg       0.47      0.47      0.45       222\n",
            "\n",
            "Silhouette Score for K-Means: 0.16692724222127542\n",
            "Condition with most usage of drugs: 23\n",
            "Max count of users who found the review useful: 149\n",
            "Min count of users who found the review useful: 1\n",
            "Drug most used according to reviews: 23\n",
            "Max count of 10-star ratings: Rating column not found\n"
          ]
        },
        {
          "output_type": "stream",
          "name": "stderr",
          "text": [
            "/usr/local/lib/python3.10/dist-packages/sklearn/metrics/_classification.py:1531: UndefinedMetricWarning: Precision is ill-defined and being set to 0.0 in labels with no predicted samples. Use `zero_division` parameter to control this behavior.\n",
            "  _warn_prf(average, modifier, f\"{metric.capitalize()} is\", len(result))\n",
            "/usr/local/lib/python3.10/dist-packages/sklearn/metrics/_classification.py:1531: UndefinedMetricWarning: Recall is ill-defined and being set to 0.0 in labels with no true samples. Use `zero_division` parameter to control this behavior.\n",
            "  _warn_prf(average, modifier, f\"{metric.capitalize()} is\", len(result))\n",
            "/usr/local/lib/python3.10/dist-packages/sklearn/metrics/_classification.py:1531: UndefinedMetricWarning: Precision is ill-defined and being set to 0.0 in labels with no predicted samples. Use `zero_division` parameter to control this behavior.\n",
            "  _warn_prf(average, modifier, f\"{metric.capitalize()} is\", len(result))\n",
            "/usr/local/lib/python3.10/dist-packages/sklearn/metrics/_classification.py:1531: UndefinedMetricWarning: Recall is ill-defined and being set to 0.0 in labels with no true samples. Use `zero_division` parameter to control this behavior.\n",
            "  _warn_prf(average, modifier, f\"{metric.capitalize()} is\", len(result))\n",
            "/usr/local/lib/python3.10/dist-packages/sklearn/metrics/_classification.py:1531: UndefinedMetricWarning: Precision is ill-defined and being set to 0.0 in labels with no predicted samples. Use `zero_division` parameter to control this behavior.\n",
            "  _warn_prf(average, modifier, f\"{metric.capitalize()} is\", len(result))\n",
            "/usr/local/lib/python3.10/dist-packages/sklearn/metrics/_classification.py:1531: UndefinedMetricWarning: Recall is ill-defined and being set to 0.0 in labels with no true samples. Use `zero_division` parameter to control this behavior.\n",
            "  _warn_prf(average, modifier, f\"{metric.capitalize()} is\", len(result))\n"
          ]
        }
      ]
    }
  ]
}